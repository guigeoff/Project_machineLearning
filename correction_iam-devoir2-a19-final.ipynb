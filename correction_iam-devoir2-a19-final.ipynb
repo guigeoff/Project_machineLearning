{
 "cells": [
  {
   "cell_type": "markdown",
   "metadata": {
    "colab_type": "text",
    "id": "gUUbZ1Py41AU"
   },
   "source": [
    "<b>Introduction à l'apprentissage machine (GIF-4101 / GIF-7005)</b><img src=\"https://vision.gel.ulaval.ca/~cgagne/enseignement/apprentissage/A2019/ul_logo.png\" width=200 align=\"right\"><br>\n",
    "<b>Département de génie électrique et de génie informatique</b><br>\n",
    "<b>Automne 2019</b>\n",
    "\n",
    "# Devoir 2\n",
    "\n",
    "## Instructions\n",
    "- Formation des équipes\n",
    "    - GIF-4101 : le devoir est réalisé en équipe de deux à trois étudiants.\n",
    "    - GIF-7005 : le devoir est réalisé individuellement.\n",
    "    - Les équipes sont les mêmes que celles du devoir 1.\n",
    "- Programmation\n",
    "    - Produisez vos solutions dans le notebook (.ipynb) directement, en respectant les instructions.\n",
    "    - La performance attendue et le temps de calcul approximatif requis sont vérifiés dans le code, tout écart trop important par rapport à ces valeurs attendues entraînera *la note de zéro (0)* pour la sous-question correspondante.\n",
    "- Remise\n",
    "    - La remise du notebook (.ipynb) complété se fait dans monPortail.\n",
    "    - La remise doit être effectuée au plus tard le mercredi 16 octobre à 9h30.\n",
    "- Pondération\n",
    "    - Ce devoir compte pour 7% de la note finale."
   ]
  },
  {
   "cell_type": "markdown",
   "metadata": {
    "colab_type": "text",
    "id": "KNWHicd-5I11"
   },
   "source": [
    "## Identification\n",
    "\n",
    "- Numéro d'équipe : 6\n",
    "- Étudiant 1 : Geoffroy, Guillaume, 111 274 386\n",
    "- Étudiant 2 (GIF-4101 seulement) : Johnson, Noah, 111 155 541\n"
   ]
  },
  {
   "cell_type": "markdown",
   "metadata": {
    "colab_type": "text",
    "id": "_EuByPeU5LW-"
   },
   "source": [
    "## Notions sur Jupyter Notebook\n",
    "- Vous pouvez double-cliquer sur une cellule pour voir le contenu de celle-ci.\n",
    "- Vous pouvez exécuter une cellule avec `Shift-Enter`.\n",
    "- Vous pouvez écrire en *italique*, **gras** ou `code` (double-cliquer sur la cellule pour voir comment).\n",
    "- Vous pouvez faire une équation $\\LaTeX$ sur une ligne: $y = mx + b$.\n",
    "- Vous pouvez faire une équation $\\LaTeX$ centrée: $$y = mx + b.$$\n",
    "- Vous pouvez imbriquer des listes:\n",
    "    - Niveau 2\n",
    "        - Niveau 3\n",
    "- N'hésitez pas à vous inspirer des équations dans la question pour écrire vos équations.\n",
    "- Si vous le désirez, vous pouvez utiliser [Google Colaboratory](https://colab.research.google.com) en *téléversant* le notebook. Mais c'est votre responsabilité de vous assurez que le résultat du notebook déposé dans monPortail s'exécute correctement avec Jupyter.\n",
    "- La *commande magique* `%matplotlib notebook` permet de générer des figures interactives dans le notebook. Cela pourrait vous être utile pour naviguer dans une figure. Si vous exécuter le notebook dans Google Colaboratory, vous devez changer la commande pour `%matplotlib inline`."
   ]
  },
  {
   "cell_type": "code",
   "execution_count": 1,
   "metadata": {
    "colab": {},
    "colab_type": "code",
    "id": "GBWSbADQ5OZJ"
   },
   "outputs": [],
   "source": [
    "import time\n",
    "import numpy\n",
    "\n",
    "import matplotlib\n",
    "%matplotlib inline\n",
    "matplotlib.rcParams['figure.figsize'] = (15.0, 8.0)\n",
    "from matplotlib import pyplot, patches\n",
    "\n",
    "from scipy.stats import norm\n",
    "from sklearn.neighbors import KernelDensity\n",
    "\n",
    "# Classifieurs utilisés\n",
    "from sklearn.datasets import make_classification, load_breast_cancer, load_iris\n",
    "from sklearn.preprocessing import minmax_scale, normalize\n",
    "from sklearn.discriminant_analysis import LinearDiscriminantAnalysis\n",
    "from sklearn.linear_model import LogisticRegression, Perceptron\n",
    "from sklearn.model_selection import KFold, LeaveOneOut\n",
    "from sklearn.neighbors import KNeighborsClassifier\n",
    "\n",
    "_times = []\n",
    "def checkTime(maxduration, question):\n",
    "    duration = _times[-1] - _times[-2]\n",
    "    if duration > maxduration:\n",
    "        print(\"[ATTENTION] Votre code pour la question {0} met trop de temps à s'exécuter! \".format(question)+\n",
    "            \"Le temps maximum permis est de {0:.4f} secondes, mais votre code a requis {1:.4f} secondes! \".format(maxduration,duration)+\n",
    "            \"Assurez-vous que vous ne faites pas d'appels bloquants (par exemple à show()) dans cette boucle!\")\n",
    "        \n",
    "# Définition des durées d'exécution maximales pour chaque sous-question\n",
    "TMAX_Q1A = 1.0\n",
    "TMAX_Q1B = 2.5\n",
    "TMAX_Q2B = 5.0\n",
    "TMAX_Q2disp = 10.0\n",
    "TMAX_Q2C = 20\n",
    "TMAX_Q2Fbc = 60\n",
    "TMAX_Q2Firis = 40\n",
    "TMAX_Q2Gbc = 30\n",
    "TMAX_Q2Giris = 15"
   ]
  },
  {
   "cell_type": "markdown",
   "metadata": {
    "colab_type": "text",
    "id": "gTYFqz-86OS0"
   },
   "source": [
    "## Question 1 : Estimation de densité par noyau (5pt)\n",
    "Soit une densité-mélange combinant deux lois normales en une dimension,\n",
    "\n",
    "$$p(x) = \\sum_i P(\\mathcal{G}_i)\\,p(x|\\mathcal{G}_i) = \\pi_1\\,\\mathcal{N}(\\mu_1,\\sigma_1^2) + \\pi_2\\,\\mathcal{N}(\\mu_2,\\sigma_2^2),$$\n",
    "où $\\pi_1=0,4$, $\\mu_1=0$, $\\sigma_1^2=1$, $\\pi_2=0,6$, $\\mu_2=5$ et $\\sigma_2^2=1$. La cellule suivante contient une fonction nommée *pdf* qui vous permet d'obtenir la densité de probabilité correspondante. La figure suivante illustre cette densité-mélange dans le domaine $[-5,~10]$:\n",
    "\n",
    "<img src=\"https://vision.gel.ulaval.ca/~cgagne/enseignement/apprentissage/A2019/travaux/mixture.png\" width=500 align=\"center\">"
   ]
  },
  {
   "cell_type": "code",
   "execution_count": 2,
   "metadata": {
    "colab": {},
    "colab_type": "code",
    "id": "SJ6bI3hM9wMl"
   },
   "outputs": [],
   "source": [
    "# Définition de la PDF de la densité-mélange\n",
    "def pdf(X):\n",
    "    return 0.4 * norm(0, 1).pdf(X) + 0.6 * norm(5, 1).pdf(X)"
   ]
  },
  {
   "cell_type": "markdown",
   "metadata": {
    "colab_type": "text",
    "id": "MtVd7yz9BCKp"
   },
   "source": [
    "### Q1A\n",
    "Complétez la fonction *sample(n)* permettant d'échantillonner des données de cette densité où *n* correspond au nombre de données à échantillonner. \n",
    "\n",
    "Présentez deux figures, montrant respectivement 50 et 10\\,000 données échantillonnées de cette distribution, sous la forme d'histogrammes de 25 *bins* dans le domaine $[-5,~10]$. \n",
    "\n",
    "Sur ces figures, affichez également la fonction de densité réelle pour permettre d'en comparer la forme avec celles des distributions obtenues."
   ]
  },
  {
   "cell_type": "markdown",
   "metadata": {},
   "source": [
    "### <p style=\"color:red;\">Correction de la question Q1A\n",
    "Vous avez obtenu la note de 1.25/1.25\n",
    "\n",
    "Explications (si nécessaire):\n"
   ]
  },
  {
   "cell_type": "code",
   "execution_count": 5,
   "metadata": {
    "colab": {},
    "colab_type": "code",
    "id": "cOPitC7EBsjx"
   },
   "outputs": [
    {
     "data": {
      "image/png": "[encoded data removed]",
      "text/plain": [
       "<Figure size 432x288 with 1 Axes>"
      ]
     },
     "metadata": {
      "needs_background": "light"
     },
     "output_type": "display_data"
    },
    {
     "data": {
      "image/png": "[encoded data removed]",
      "text/plain": [
       "<Figure size 432x288 with 1 Axes>"
      ]
     },
     "metadata": {
      "needs_background": "light"
     },
     "output_type": "display_data"
    }
   ],
   "source": [
    "# TODO Q1A\n",
    "# Complétez la fonction sample(n), qui génère n\n",
    "# données suivant la distribution mentionnée dans l'énoncé\n",
    "def sample(n):\n",
    "    nr1 = n*0.4\n",
    "    nr2 = n*0.6\n",
    "    r1 = norm.rvs(loc=0, scale=1, size=int(nr1))\n",
    "    r2 = norm.rvs(loc=5, scale=1, size=int(nr2))\n",
    "    r = numpy.concatenate([r1,r2])\n",
    "    r = r.reshape(n,1)\n",
    "    return r\n",
    "\n",
    "_times.append(time.time())\n",
    "\n",
    "\n",
    "# TODO Q1A\n",
    "# Échantillonnez 50 et 10 000 données en utilisant la fonction\n",
    "# sample(n) que vous avez définie plus haut et tracez l'histogramme\n",
    "# de cette distribution échantillonée, en utilisant 25 bins,\n",
    "# dans le domaine [-5, 10].\n",
    "# Sur les mêmes graphiques, tracez également la fonction de densité réelle.\n",
    "\n",
    "X = numpy.linspace(-5, 10, 100)\n",
    "\n",
    "sample50 = sample(50)\n",
    "sample10000 = sample(10000)\n",
    "\n",
    "fig1, ax1 = pyplot.subplots(1, 1)\n",
    "ax1.plot(X, pdf(X),'r-', lw=1, alpha=0.6, label='norm pdf')\n",
    "ax1.hist(sample50,25,density=True, histtype='stepfilled', alpha=0.2)\n",
    "pyplot.title('Histogramme avec 50 échantillons')\n",
    "pyplot.show()\n",
    "\n",
    "fig2, ax2 = pyplot.subplots(1, 1)\n",
    "ax2.plot(X, pdf(X),'r-', lw=1, alpha=0.6, label='norm pdf')\n",
    "ax2.hist(sample10000,25,density=True, histtype='stepfilled', alpha=0.2)\n",
    "pyplot.title('Histogramme avec 10000 échantillons')\n",
    "pyplot.show()\n",
    "\n",
    "\n",
    "# Affichage du graphique\n",
    "_times.append(time.time())\n",
    "checkTime(TMAX_Q1A, \"1A\")\n",
    "pyplot.show()"
   ]
  },
  {
   "cell_type": "markdown",
   "metadata": {
    "colab_type": "text",
    "id": "rpxfsJ83c3s6"
   },
   "source": [
    "### Q1B\n",
    "Montrez le résultat d'une estimation avec un noyau *Boxcar* (réf. Estimation naïve d'histogramme dans les documents du cours), également connu sous le nom de noyau *tophat*. Appliquez le sur 50 et 10\\,000 données, pour les tailles de noyaux (*bandwidth*) de {0.3, 1, 2, 5}.\n",
    "\n",
    "- Présentez vos résultats en deux figures, une pour les résultats sur 50 données et l'autre pour les résultats sur 10\\,000 données;\n",
    "- Utilisez une couleur de courbe différente pour chaque taille de noyau;\n",
    "- Ajoutez une légende à vos figures."
   ]
  },
  {
   "cell_type": "markdown",
   "metadata": {},
   "source": [
    "### <p style=\"color:red;\">Correction de la question Q1B\n",
    "Vous avez obtenu la note de 1.25/1.25\n",
    "\n",
    "Explications (si nécessaire):\n"
   ]
  },
  {
   "cell_type": "code",
   "execution_count": 7,
   "metadata": {
    "colab": {},
    "colab_type": "code",
    "id": "e_Xew4myegyF"
   },
   "outputs": [
    {
     "data": {
      "image/png": "[encoded data removed]",
      "text/plain": [
       "<Figure size 432x288 with 1 Axes>"
      ]
     },
     "metadata": {
      "needs_background": "light"
     },
     "output_type": "display_data"
    },
    {
     "data": {
      "image/png": "[encoded data removed]",
      "text/plain": [
       "<Figure size 432x288 with 1 Axes>"
      ]
     },
     "metadata": {
      "needs_background": "light"
     },
     "output_type": "display_data"
    }
   ],
   "source": [
    "_times.append(time.time())\n",
    "\n",
    "# Échantillonnez 50 et 10 000 données, mais utilisez cette fois une\n",
    "# estimation avec noyau boxcar pour présenter les données. Pour chaque\n",
    "# nombre de données (50 et 10 000), vous devez présenter les distributions\n",
    "# estimées avec des tailles de noyau (bandwidth) de {0.3, 1, 2, 5}, dans\n",
    "# la même figure, mais tracées avec des couleurs différentes.\n",
    "\n",
    "\n",
    "XX = numpy.linspace(-5, 10, 1000)\n",
    "XX = XX.reshape(1000,1)\n",
    "h = [0.3, 1, 2, 5]\n",
    "fig3, ax3 = pyplot.subplots(1, 1)\n",
    "for i in h:\n",
    "    kde = KernelDensity(kernel='tophat', bandwidth=i).fit(sample50)\n",
    "    log_dens = kde.score_samples(XX)\n",
    "    ax3.plot(XX[:, 0], numpy.exp(log_dens))\n",
    "pyplot.legend(('h = 0.3', 'h =  1', 'h =  2','h =  5'))\n",
    "pyplot.title('Boxcar avec 50 échantillons')\n",
    "pyplot.show()\n",
    "\n",
    "fig4, ax4 = pyplot.subplots(1, 1)\n",
    "for i in h:\n",
    "    kde = KernelDensity(kernel='tophat', bandwidth=i).fit(sample10000)\n",
    "    log_dens = kde.score_samples(XX)\n",
    "    ax4.plot(XX[:, 0], numpy.exp(log_dens))\n",
    "pyplot.legend(('h = 0.3', 'h =  1', 'h =  2','h =  5'))\n",
    "pyplot.title('Boxcar avec 10000 échantillons')\n",
    "pyplot.show()\n",
    "    \n",
    "# Affichage du graphique\n",
    "_times.append(time.time())\n",
    "checkTime(TMAX_Q1B, \"1B\")\n",
    "pyplot.show()"
   ]
  },
  {
   "cell_type": "markdown",
   "metadata": {
    "colab_type": "text",
    "id": "Ms5XHoTYwejy"
   },
   "source": [
    "### Q1C\n",
    "Expliquez les principales différences et similarités entre une estimation par noyau et une approche basée sur les $k$-*PPV*. Quel lien peut-on faire entre eux?"
   ]
  },
  {
   "cell_type": "markdown",
   "metadata": {},
   "source": [
    "### <p style=\"color:red;\">Correction de la question Q1C\n",
    "Vous avez obtenu la note de /1.25\n",
    "\n",
    "Explications (si nécessaire):\n"
   ]
  },
  {
   "cell_type": "markdown",
   "metadata": {
    "colab_type": "text",
    "id": "BUYhHkI6wxc2"
   },
   "source": [
    "#### Réponse Q1C\n",
    "\n",
    "\\* _Entrez votre réponse pour Q1C ici_ \\*"
   ]
  },
  {
   "cell_type": "markdown",
   "metadata": {
    "colab_type": "text",
    "id": "Qayt0U0gw_h7"
   },
   "source": [
    "### Q1D\n",
    "Expliquez pourquoi les $k$*-PPV* sont intéressants pour le classement et la régression, mais peu adaptés à l'estimation de densité?"
   ]
  },
  {
   "cell_type": "markdown",
   "metadata": {},
   "source": [
    "### <p style=\"color:red;\">Correction de la question Q1D\n",
    "Vous avez obtenu la note de /1.25\n",
    "\n",
    "Explications (si nécessaire):\n"
   ]
  },
  {
   "cell_type": "markdown",
   "metadata": {
    "colab_type": "text",
    "id": "Z7FYcrKkxNVD"
   },
   "source": [
    "#### Réponse Q1D\n",
    "\n",
    "\\* _Entrez votre réponse pour Q1D ici_ \\*"
   ]
  },
  {
   "cell_type": "markdown",
   "metadata": {
    "colab_type": "text",
    "id": "sfiX5wWNxnUa"
   },
   "source": [
    "## Question 2 : Discriminants linéaires et $k$-plus proches voisins pour la classification (15pt)\n",
    "\n",
    "Soit un discriminant linéaire, avec lequel le classement est effectué selon:\n",
    "\n",
    "\\begin{equation*}\n",
    "\\mathrm{h}(\\mathbf{x}|\\mathbf{w},w_0) = \\mathbf{w}^\\top \\mathbf{x} + w_0,\\quad \\mathbf{x}^t\\in\\left\\{\\begin{array}{cc}C_1 & \\mathrm{h}(\\mathbf{x}|\\mathbf{w},w_0)\\geq 0\\\\ C_2 & \\mbox{autrement}\\end{array}\\right..\n",
    "\\end{equation*}\n",
    "\n",
    "On effectue un entraînement avec une descente du gradient basée sur le critère d'erreur suivant:\n",
    "\\begin{equation*}\n",
    "E(\\mathbf{w},w_0|\\mathcal{X}) = \\frac{1}{2} \\sum_{\\mathbf{x}^t\\in\\mathcal{Y}} \\frac{[r^t - \\mathrm{h}(\\mathbf{x}^t|\\mathbf{w},w_0)]^2}{\\|\\mathbf{x}^t\\|^2},\n",
    "\\end{equation*}\n",
    "où $r^t\\in\\{-1,1\\}$ et $\\mathcal{Y}$ est l'ensemble des données de $\\mathcal{X}$ mal classées,\n",
    "\\begin{equation*}\n",
    "\\mathcal{Y} = \\{\\mathbf{x}^t\\in\\mathcal{X}~|~r^t \\mathrm{h}(\\mathbf{x}^t|\\mathbf{w},w_0)\\leq 0\\}.\n",
    "\\end{equation*}\n",
    "Si l'ensemble $\\mathcal{Y}$ est vide, alors $E(\\mathbf{w},w_0|\\mathcal{X})=0$."
   ]
  },
  {
   "cell_type": "markdown",
   "metadata": {
    "colab_type": "text",
    "id": "h5V9Rvp8yMKG"
   },
   "source": [
    "### Q2A\n",
    "Donnez le développement mathématique complet des équations permettant d'effectuer la mise à jour des poids $\\mathbf{w}$ et $w_0$ par descente du gradient, selon le critère d'erreur proposé."
   ]
  },
  {
   "cell_type": "markdown",
   "metadata": {},
   "source": [
    "### <p style=\"color:red;\">Correction de la question Q2A\n",
    "Vous avez obtenu la note de 0/3\n",
    "\n",
    "Explications (si nécessaire):\n"
   ]
  },
  {
   "cell_type": "markdown",
   "metadata": {
    "colab_type": "text",
    "id": "KkJmG01WygkS"
   },
   "source": [
    "#### Réponse Q2A\n",
    "\n",
    "$$E = \\frac{1}{2} \\displaystyle\\sum_{x^t \\in y} \\frac{(r^t+w^t x^t+w_{0})^2}{||{x^t}||^2}$$\n",
    "\n",
    "$$\\frac{\\partial E}{\\partial w_{i}} = - \\displaystyle\\sum_{x^t \\in y} \\frac{( x_{i}^t)(r^t+w^t x^t+w_{0})}{||{x^t}||^2}$$\n",
    "\n",
    "$$\\frac{\\partial E}{\\partial w_{0}} = - \\displaystyle\\sum_{x^t \\in y} \\frac{(r^t+w^t x^t+w_{0})^2}{||{x^t}||^2}$$"
   ]
  },
  {
   "cell_type": "markdown",
   "metadata": {
    "colab_type": "text",
    "id": "_-2XrFV81Cin"
   },
   "source": [
    "### Q2B\n",
    "Implémentez une classe Python correspondant à ce discriminant linéaire, en programmant au minimum les fonctions *fit*, *predict*, *score* de l'interface *Scikit-learn*."
   ]
  },
  {
   "cell_type": "markdown",
   "metadata": {},
   "source": [
    "### <p style=\"color:red;\">Correction de la question Q2B\n",
    "Vous avez obtenu la note de 1/2\n",
    "\n",
    "Explications (si nécessaire): (-1) Comment implémenter le code si vous n'avez pas les équations de descente de gradient?\n"
   ]
  },
  {
   "cell_type": "code",
   "execution_count": 13,
   "metadata": {
    "colab": {},
    "colab_type": "code",
    "id": "ZOqqc_cu1-HR"
   },
   "outputs": [],
   "source": [
    "# Implémentation du discriminant linéaire\n",
    "class DiscriminantLineaire:\n",
    "    def __init__(self, eta=1e-2, epsilon=1e-2, max_iter=1000):\n",
    "        # Cette fonction est déjà codée pour vous, vous n'avez qu'à utiliser\n",
    "        # les variables membres qu'elle définit dans les autres fonctions de\n",
    "        # cette classe.\n",
    "        self.eta = eta\n",
    "        \n",
    "        # Epsilon et max_iter servent à stocker les critères d'arrêt\n",
    "        # max_iter est un simple critère considérant le nombre de mises à jour\n",
    "        # effectuées sur les poids (autrement dit, on cesse l'apprentissage\n",
    "        # après max_iter itération de la boucle d'entraînement), alors que\n",
    "        # epsilon indique la différence minimale qu'il doit y avoir entre\n",
    "        # les erreurs de deux itérations successives pour que l'on ne\n",
    "        # considère pas l'algorithme comme ayant convergé. Par exemple,\n",
    "        # si epsilon=1e-2, alors tant que la différence entre l'erreur\n",
    "        # obtenue à la précédente itération et l'itération courante est\n",
    "        # plus grande que 0.01, on continue, sinon on arrête.\n",
    "        self.epsilon = epsilon\n",
    "        self.max_iter = max_iter\n",
    "    \n",
    "    \n",
    "    def fit(self, X, y):\n",
    "        # Implémentez la fonction d'entraînement du classifieur, selon\n",
    "        # les équations que vous avez développées dans votre rapport.\n",
    "\n",
    "        # On initialise les poids aléatoirement\n",
    "        w = numpy.random.rand(X.shape[1]+1)\n",
    "\n",
    "        # TODO Q2B - Fonction d'entraînement\n",
    "        # Vous devez ici implémenter l'entraînement.\n",
    "        # Celui-ci devrait être contenu dans la boucle suivante, qui se répète\n",
    "        # self.max_iter fois\n",
    "        # Vous êtes libres d'utiliser les noms de variable de votre choix, sauf\n",
    "        # pour les poids qui doivent être contenus dans la variable w définie plus haut\n",
    "        \n",
    "        index = 0\n",
    "        self.cat1 =  max(y)\n",
    "        self.cat2 =  min(y)\n",
    "        ######\n",
    "        erreur = 1\n",
    "        E_prec = 0\n",
    "        i = 0\n",
    "        while i < self.max_iter and erreur > self.epsilon :\n",
    "            e = 0\n",
    "            sumi = numpy.array([0.0 for i in range(len(w[1:]))])\n",
    "            sum0 = 0\n",
    "            E_calc = 0\n",
    "            for t in range(len(X)):\n",
    "                h = numpy.dot(w[1:], numpy.transpose(X[t])) + w[0]\n",
    "                if y[t] == self.cat1:\n",
    "                    rj = 1\n",
    "                else:\n",
    "                    rj = -1\n",
    "                if h*rj <= 0:\n",
    "                    e = (rj - h)/(numpy.linalg.norm(X[t])**2)\n",
    "                    sum0 += e\n",
    "                    sumi += [e*X[t][k] for k in range(len(sumi))]\n",
    "                    E_calc += (rj - h)**2/(numpy.linalg.norm(X[t])**2)\n",
    "            deltaw0 = self.eta*sum0 \n",
    "            deltawi = self.eta*sumi\n",
    "            w[0] += deltaw0\n",
    "            w[1:] += deltawi\n",
    "            E_calc = (1/2)*E_calc\n",
    "            erreur = abs(E_calc - E_prec)\n",
    "            E_prec = E_calc\n",
    "            i += 1\n",
    "            #pass # Retirer le \"pass\" et compléter le code ici\n",
    "        \n",
    "        # À ce stade, la variable w devrait contenir les poids entraînés\n",
    "        # Copie des poids entraînés dans une variable membre pour les conserver\n",
    "        self.w = w\n",
    "    \n",
    "    \n",
    "    def predict(self, X):\n",
    "        # TODO Q2B - Fonction de prédiction\n",
    "        # Implémentez la fonction de prédiction\n",
    "        #pass # Retirer le \"pass\" et compléter le code ici\n",
    "        \n",
    "        y=[]\n",
    "        classe = [numpy.dot(self.w[1:], numpy.transpose(X[t])) + self.w[0]  for t in range(len(X))]\n",
    "        for element in classe:\n",
    "            if element > 0:\n",
    "                y.append(self.cat1)\n",
    "            else:\n",
    "                y.append(self.cat2)\n",
    "        return(y)\n",
    "    \n",
    "    \n",
    "    def score(self, X, y):\n",
    "        # TODO Q2B - Fonction de calcul du score\n",
    "        # Implémentez la fonction retournant le score (précision / accuracy)\n",
    "        # du classifieur sur les données reçues en argument.\n",
    "        # Vous pouvez supposer que fit() a préalablement été exécuté\n",
    "        # Indice : réutiliser votre implémentation de predict() réduit de\n",
    "        # beaucoup la taille de cette fonction!\n",
    "        y_obt = self.predict(X)\n",
    "        return(numpy.sum((numpy.array(y_obt) == numpy.array(y)) == True) / len(y))\n",
    "        #pass # Retirer le \"pass\" et compléter le code ici"
   ]
  },
  {
   "cell_type": "markdown",
   "metadata": {
    "colab_type": "text",
    "id": "Ek8QVx234Y1B"
   },
   "source": [
    "### Q2C\n",
    "Testez la performance de ce discriminant linéaire sur un jeu de données synthétique à 2 classes, produit avec la fonction *make_classification* de la librairie *Scikit-learn*. Comme l'exercice se limite à valider le bon fonctionnement du classifieur, rapportez les résultats sur l'ensemble des données. Cela signifie que vous incluez également les données d'entraînement pour calculer la performance.\n",
    "\n",
    "La configuration est la suivante: \n",
    "- Données synthétiques comprenant 100 instances selon deux classes et en deux dimensions, avec un cluster par classe, soit *make_classification(n_features=2, n_redundant=0, n_informative=2, n_clusters_per_class=1)*."
   ]
  },
  {
   "cell_type": "markdown",
   "metadata": {},
   "source": [
    "### <p style=\"color:red;\">Correction de la question Q2C\n",
    "Vous avez obtenu la note de 0.5/2\n",
    "\n",
    "Explications (si nécessaire): Aucune figure, seulement l'erreur.\n"
   ]
  },
  {
   "cell_type": "code",
   "execution_count": 16,
   "metadata": {
    "colab": {},
    "colab_type": "code",
    "id": "J8S5M7jK5bTB"
   },
   "outputs": [
    {
     "name": "stdout",
     "output_type": "stream",
     "text": [
      "Erreur: 0.010000000000000009\n"
     ]
    }
   ],
   "source": [
    "_times.append(time.time())\n",
    "\n",
    "\n",
    "# Problème à 2 classes\n",
    "X, y = make_classification(n_features=2,\n",
    "                           n_redundant=0,\n",
    "                           n_informative=2,\n",
    "                           n_clusters_per_class=1)\n",
    "classif = DiscriminantLineaire()\n",
    "classif.fit(X,y)\n",
    "print(\"Erreur: \" + str(1-classif.score(X, y)))\n",
    "\n",
    "# TODO Q2C\n",
    "# Testez la performance du discriminant linéaire pour le problème\n",
    "# à deux classes, et tracez les régions de décision\n",
    "\n",
    "\n",
    "_times.append(time.time())\n",
    "checkTime(TMAX_Q2disp, \"2C\")"
   ]
  },
  {
   "cell_type": "markdown",
   "metadata": {
    "colab_type": "text",
    "id": "0zz9UeWo6ABP"
   },
   "source": [
    "### Q2D\n",
    "Implémentez une classe Python correspondant au même discriminant linéaire qu'à la Q2B, en programmant au minimum les fonctions *fit*, *predict*, *score* de l'interface *Scikit-learn*, mais cette fois avec une approche *Un contre tous* pour faire du classement multiclasses avec le discriminant linéaire."
   ]
  },
  {
   "cell_type": "markdown",
   "metadata": {},
   "source": [
    "### <p style=\"color:red;\">Correction de la question Q2D\n",
    "Vous avez obtenu la note de 2/2\n",
    "\n",
    "Explications (si nécessaire):\n"
   ]
  },
  {
   "cell_type": "code",
   "execution_count": 18,
   "metadata": {
    "colab": {},
    "colab_type": "code",
    "id": "verOZTBx7WnZ"
   },
   "outputs": [],
   "source": [
    "# Implémentation du classifieur un contre tous utilisant le discriminant \n",
    "# linéaire défini précédemment\n",
    "class ClassifieurUnContreTous:\n",
    "    def __init__(self, n_classes, **kwargs):\n",
    "        # Cette fonction est déjà codée pour vous, vous n'avez qu'à utiliser\n",
    "        # les variables membres qu'elle définit dans les autres fonctions de\n",
    "        # cette classe.\n",
    "        self.n_classes = n_classes\n",
    "        self.estimators = [DiscriminantLineaire(**kwargs) for c in range(n_classes)]\n",
    "    \n",
    "    \n",
    "    def fit(self, X, y):\n",
    "        # Implémentez la fonction d'entraînement du classifieur, selon\n",
    "        # les équations que vous avez développées dans votre rapport.\n",
    "\n",
    "        # On initialise les poids aléatoirement\n",
    "        w = numpy.random.rand(X.shape[1]+1)\n",
    "        \n",
    "        # TODO Q2B - Fonction d'entraînement\n",
    "        # Vous devez ici implémenter l'entraînement.\n",
    "        # Celui-ci devrait être contenu dans la boucle suivante, qui se répète\n",
    "        # self.max_iter fois\n",
    "        # Vous êtes libres d'utiliser les noms de variable de votre choix, sauf\n",
    "        # pour les poids qui doivent être contenus dans la variable w définie plus haut\n",
    "        \n",
    "        \n",
    "        ##### catégorisation\n",
    "        \n",
    "        liste_categories = []\n",
    "        index = 0\n",
    "        while len(liste_categories) < self.n_classes:\n",
    "            if y[index] not in liste_categories:\n",
    "                liste_categories.append(y[index])\n",
    "            index += 1\n",
    "        self.liste_categories = liste_categories\n",
    "        \n",
    "        \n",
    "        \n",
    "        \n",
    "        \n",
    "        for i in range(len(self.estimators)):\n",
    "            y_contre_tous = []\n",
    "            premier_element = y[0]\n",
    "            for element in y:\n",
    "                if (element == liste_categories[i]):\n",
    "                    y_contre_tous.append(1)\n",
    "                else:\n",
    "                    y_contre_tous.append(0)\n",
    "            self.estimators[i].fit(X, y_contre_tous)\n",
    "        \n",
    "        # Retirer le \"pass\" et compléter le code ici\n",
    "        \n",
    "        # À ce stade, la variable w devrait contenir les poids entraînés\n",
    "        # Copie des poids entraînés dans une variable membre pour les conserver\n",
    "       # self.liste_w = liste_w\n",
    "    \n",
    "    \n",
    "    def predict(self, X):\n",
    "        # TODO Q2B - Fonction de prédiction\n",
    "        # Implémentez la fonction de prédiction\n",
    "        y=[]\n",
    "        for t in range(len(X)):\n",
    "            liste_h = []\n",
    "            for i in range(len(self.estimators)):\n",
    "                liste_h.append(numpy.dot(self.estimators[i].w[1:],X[t]) + self.estimators[i].w[0])\n",
    "            category = self.liste_categories[liste_h.index(max(liste_h))]\n",
    "            y.append(category)\n",
    "        return(y)\n",
    "                #pass # Retirer le \"pass\" et compléter le code ici\n",
    "    \n",
    "    def score(self, X, y):\n",
    "        # TODO Q2B - Fonction de calcul du score\n",
    "        # Implémentez la fonction retournant le score (précision / accuracy)\n",
    "        # du classifieur sur les données reçues en argument.\n",
    "        # Vous pouvez supposer que fit() a préalablement été exécuté\n",
    "        # Indice : réutiliser votre implémentation de predict() réduit de\n",
    "        # beaucoup la taille de cette fonction!\n",
    "        #pass # Retirer le \"pass\" et compléter le code ici\n",
    "        y_obt = self.predict(X)\n",
    "        return((numpy.sum((numpy.array(y_obt) == numpy.array(y)) == True) / len(y)))\n",
    "        "
   ]
  },
  {
   "cell_type": "markdown",
   "metadata": {
    "colab_type": "text",
    "id": "vXLYEW9d7YdY"
   },
   "source": [
    "### Q2E\n",
    "Testez la performance de ce discriminant linéaire sur un jeu de données synthétique à 3 classes, produit avec la fonction *make_classification* de la librairie *Scikit-learn*. Comme l'exercice se limite à valider le bon fonctionnement du classifieur, rapportez les résultats sur l'ensemble des données. Cela signifie que vous incluez également les données d'entraînement pour calculer la performance.\n",
    "\n",
    "La configuration est la suivante:\n",
    "- Données synthétiques comprenant 100 instances selon trois classes et en deux dimensions, avec un cluster par classe, soit *make_classification(n_features=2, n_redundant=0, n_informative=2, n_clusters_per_class=1, n_classes=3)*."
   ]
  },
  {
   "cell_type": "markdown",
   "metadata": {},
   "source": [
    "### <p style=\"color:red;\">Correction de la question Q2E\n",
    "Vous avez obtenu la note de 0.5/2\n",
    "\n",
    "Explications (si nécessaire): Aucune figure demandée.\n"
   ]
  },
  {
   "cell_type": "code",
   "execution_count": 23,
   "metadata": {
    "colab": {},
    "colab_type": "code",
    "id": "3h7dH0zo9wQe"
   },
   "outputs": [
    {
     "name": "stdout",
     "output_type": "stream",
     "text": [
      "Erreur: 0.18999999999999995\n"
     ]
    }
   ],
   "source": [
    "_times.append(time.time())\n",
    "\n",
    "\n",
    "# Problème à 3 classes\n",
    "X, y = make_classification(n_features=2,\n",
    "                           n_redundant=0,\n",
    "                           n_informative=2,\n",
    "                           n_clusters_per_class=1,\n",
    "                           n_classes=3)\n",
    "\n",
    "\n",
    "\n",
    "# TODO Q2E\n",
    "# Testez la performance du discriminant linéaire pour le problème\n",
    "# à trois classes, et tracez les régions de décision\n",
    "\n",
    "classif2 = ClassifieurUnContreTous(n_classes=3)\n",
    "classif2.fit(X, y)\n",
    "print(\"Erreur: \" + str(1-classif2.score(X, y)))\n",
    "\n",
    "\n",
    "\n",
    "_times.append(time.time())\n",
    "checkTime(TMAX_Q2disp, \"2E\")"
   ]
  },
  {
   "cell_type": "markdown",
   "metadata": {
    "colab_type": "text",
    "id": "2Om26tAOB-ms"
   },
   "source": [
    "### Q2F\n",
    "Comparez les résultats de votre classifieur avec les discriminants linéaires suivants:\n",
    "  - Méthode paramétrique de loi normale multivariée (*discriminant_analysis.LinearDiscriminantAnalysis*);\n",
    "  - Descente du gradient avec le critère du perceptron (*linear_model.Perceptron*);\n",
    "  - Régression logistique (*linear_model.LogisticRegression*).\n",
    "\n",
    "Utilisez les jeux de données suivants pour faire vos comparaisons:\n",
    "- Breast Cancer Wisconsin: jeu de 569 données pour l'identification du cancer du sein en 30 dimensions et selon 2 classes. Le jeu est disponible avec la commande *load_breast_cancer()*;\n",
    "- Iris de Fisher: jeu de 150 données pour l'identification d'Iris, avec des données en 4 dimensions et selon 3 classes. Le jeu est disponible avec la commande *load_iris()*.\n",
    "\n",
    "Normalisez préalablement les données selon les valeurs minimales et maximales du jeu avec la fonction appelée *minmax_scale*. Faites vos expérimentation selon une validation croisée à trois plis.\n",
    "\n",
    "Pour cette sous-question:\n",
    "- Rapportez les paramètres d'entraînement utilisés pour chacun des algorithmes, s'il y a lieu;\n",
    "- Rapportez les taux d'erreurs en entraînement, en test et le temps de calcul dans le tableau prévu à cet effet;\n",
    "- Discutez  **<u>brièvement</u>** des résultats obtenus (performances en entraînement, performances en généralisation et temps de calcul)."
   ]
  },
  {
   "cell_type": "markdown",
   "metadata": {},
   "source": [
    "### <p style=\"color:red;\">Correction de la question Q2F\n",
    "Vous avez obtenu la note de 1.5/2\n",
    "\n",
    "Explications (si nécessaire): Taux d'erreur demandé, pas le score.\n"
   ]
  },
  {
   "cell_type": "code",
   "execution_count": 40,
   "metadata": {
    "colab": {},
    "colab_type": "code",
    "id": "NKXRMWBa5aRX"
   },
   "outputs": [
    {
     "name": "stdout",
     "output_type": "stream",
     "text": [
      "[[0.9815650604082767, 0.950830780655342, 49.20458102226257], [0.9648567328611767, 0.9596027104799035, 0.00891876220703125], [0.9771559505624219, 0.959574863083635, 0.004271268844604492], [0.968358561310929, 0.9525387542931402, 0.006987810134887695]]\n"
     ]
    },
    {
     "name": "stderr",
     "output_type": "stream",
     "text": [
      "/Users/noahjohnson/anaconda3/lib/python3.7/site-packages/sklearn/linear_model/logistic.py:432: FutureWarning: Default solver will be changed to 'lbfgs' in 0.22. Specify a solver to silence this warning.\n",
      "  FutureWarning)\n",
      "/Users/noahjohnson/anaconda3/lib/python3.7/site-packages/sklearn/linear_model/logistic.py:432: FutureWarning: Default solver will be changed to 'lbfgs' in 0.22. Specify a solver to silence this warning.\n",
      "  FutureWarning)\n",
      "/Users/noahjohnson/anaconda3/lib/python3.7/site-packages/sklearn/linear_model/logistic.py:432: FutureWarning: Default solver will be changed to 'lbfgs' in 0.22. Specify a solver to silence this warning.\n",
      "  FutureWarning)\n"
     ]
    }
   ],
   "source": [
    "_times.append(time.time())\n",
    "\n",
    "\n",
    "# TODO Q2F\n",
    "# Chargez les données \"Breast cancer Wisconsin\" et normalisez les de\n",
    "# manière à ce que leur minimum et maximum soient de 0 et 1\n",
    "\n",
    "dataset = load_breast_cancer()\n",
    "X = minmax_scale(dataset.data)\n",
    "y = dataset.target\n",
    "kf = KFold(3, shuffle = True)\n",
    "\n",
    "\n",
    "\n",
    "\n",
    "# TODO Q2F\n",
    "# Comparez les diverses approches demandées dans l'énoncé sur Breast Cancer\n",
    "# Initialisez votre discriminant linéaire avec les paramètres suivants :\n",
    "# DiscriminantLineaire(eta=1e-4, epsilon=1e-6, max_iter=10000)\n",
    "# Pour les autres approches, conservez les valeurs par défaut\n",
    "# N'oubliez pas que l'évaluation doit être faite par une validation\n",
    "# croisée à K=3 plis!\n",
    "\n",
    "liste_classifieurs = [DiscriminantLineaire(eta=1e-3, epsilon=1e-6, max_iter=10000), LinearDiscriminantAnalysis(), Perceptron(), LogisticRegression()]\n",
    "liste_erreur = []\n",
    "for classif in liste_classifieurs:\n",
    "    a = 0 \n",
    "    score_train = 0\n",
    "    score_test = 0\n",
    "    debut = time.time()\n",
    "    for k, (train, test) in enumerate(kf.split(X, y)):\n",
    "        classif.fit(X[train], y[train])\n",
    "        score_train += classif.score(X[train], y[train])\n",
    "        score_test += classif.score(X[test], y[test])\n",
    "    fin = time.time()\n",
    "    liste_erreur.append([score_train/3, score_test/3, fin - debut])  \n",
    "print(liste_erreur)\n",
    "\n",
    "_times.append(time.time())\n",
    "checkTime(TMAX_Q2Fbc, \"2Fbc\")"
   ]
  },
  {
   "cell_type": "markdown",
   "metadata": {
    "colab_type": "text",
    "id": "mteMKoVuLoqy"
   },
   "source": [
    "#### Résultats et discussion Q2F (Breast cancer Wisconsin)\n",
    "\n",
    "Tableau des paramètres d'entraînement:\n",
    "\n",
    "Mon classifieur | LDA |   Perceptron  | LogReg |\n",
    "----------------|-----|---------------|------- |\n",
    "    eta=1e-4    |  -  |       -       |   -    |\n",
    "  epsilon=1e-6  |  -  |       -       |   -    |\n",
    " max_iter=10000 |  -  |       -       |   -    |\n",
    "\n",
    "\n",
    "Taux d'erreurs en entraînement et en test:\n",
    "\n",
    "Classifieur    | Taux d'err. (Entraînement) | Taux d'err. (Test) | Temps calcul|\n",
    "---------------|----------------------------|--------------------|-------------|\n",
    "Mon classifieur|           0.982            |         0.951      |     49      |\n",
    "LDA            |           0.965            |        0.960       |     0.009   |\n",
    "Perceptron     |           0.977            |        0.960       |     0.004   |\n",
    "LogReg         |           0.968            |        0.952       |     0.007   |\n",
    "\n",
    "Discussion des résultats obtenus (performances en entraînement, performances en généralisation et temps de calcul):\n",
    "- Mon classifieur: Meilleure performance en entrainement mais moins bonne en test, l'algorithme a un taux d'erreur bon mais a tendense à over-fitter. Le temps de calcul est médiocre\n",
    "- LDA: Avec le perceptron, possèdent les taux d'erreurs les plus faibles \n",
    "- Perceptron: possède le meilleur temps de calcul\n",
    "- LogReg:\n",
    "\n",
    "À choisir, le perceptron est le meilleur rapport erreur/temps de calcul"
   ]
  },
  {
   "cell_type": "code",
   "execution_count": 41,
   "metadata": {
    "colab": {},
    "colab_type": "code",
    "id": "Jw-LVgy3_HMF"
   },
   "outputs": [
    {
     "name": "stdout",
     "output_type": "stream",
     "text": [
      "\n",
      "[[0.82813287 0.50702013 0.23660939 0.03380134]\n",
      " [0.80533308 0.54831188 0.2227517  0.03426949]\n",
      " [0.80003025 0.53915082 0.26087943 0.03478392]\n",
      " [0.790965   0.5694948  0.2214702  0.0316386 ]\n",
      " [0.78417499 0.5663486  0.2468699  0.05808704]\n",
      " [0.78010936 0.57660257 0.23742459 0.0508767 ]\n",
      " [0.80218492 0.54548574 0.24065548 0.0320874 ]\n",
      " [0.80642366 0.5315065  0.25658935 0.03665562]\n",
      " [0.81803119 0.51752994 0.25041771 0.01669451]]\n",
      "[[0.9533333333333333, 0.9466666666666667, 46.27712082862854], [0.98, 0.9666666666666667, 0.003972053527832031], [0.7666666666666666, 0.7799999999999999, 0.004266977310180664], [0.8366666666666668, 0.7933333333333333, 0.004575014114379883]]\n",
      "[ATTENTION] Votre code pour la question 2Firis met trop de temps à s'exécuter! Le temps maximum permis est de 40.0000 secondes, mais votre code a requis 46.2980 secondes! Assurez-vous que vous ne faites pas d'appels bloquants (par exemple à show()) dans cette boucle!\n"
     ]
    },
    {
     "name": "stderr",
     "output_type": "stream",
     "text": [
      "/Users/noahjohnson/anaconda3/lib/python3.7/site-packages/sklearn/linear_model/logistic.py:432: FutureWarning: Default solver will be changed to 'lbfgs' in 0.22. Specify a solver to silence this warning.\n",
      "  FutureWarning)\n",
      "/Users/noahjohnson/anaconda3/lib/python3.7/site-packages/sklearn/linear_model/logistic.py:469: FutureWarning: Default multi_class will be changed to 'auto' in 0.22. Specify the multi_class option to silence this warning.\n",
      "  \"this warning.\", FutureWarning)\n",
      "/Users/noahjohnson/anaconda3/lib/python3.7/site-packages/sklearn/linear_model/logistic.py:432: FutureWarning: Default solver will be changed to 'lbfgs' in 0.22. Specify a solver to silence this warning.\n",
      "  FutureWarning)\n",
      "/Users/noahjohnson/anaconda3/lib/python3.7/site-packages/sklearn/linear_model/logistic.py:469: FutureWarning: Default multi_class will be changed to 'auto' in 0.22. Specify the multi_class option to silence this warning.\n",
      "  \"this warning.\", FutureWarning)\n",
      "/Users/noahjohnson/anaconda3/lib/python3.7/site-packages/sklearn/linear_model/logistic.py:432: FutureWarning: Default solver will be changed to 'lbfgs' in 0.22. Specify a solver to silence this warning.\n",
      "  FutureWarning)\n",
      "/Users/noahjohnson/anaconda3/lib/python3.7/site-packages/sklearn/linear_model/logistic.py:469: FutureWarning: Default multi_class will be changed to 'auto' in 0.22. Specify the multi_class option to silence this warning.\n",
      "  \"this warning.\", FutureWarning)\n"
     ]
    }
   ],
   "source": [
    "_times.append(time.time())\n",
    "\n",
    "\n",
    "# TODO Q2F\n",
    "# Chargez les données \"Iris\" et normalisez les de\n",
    "# manière à ce que leur minimum et maximum soient de 0 et 1\n",
    "\n",
    "dataset = load_iris()\n",
    "# X = minmax_scale(normalize(dataset.data))\n",
    "X = minmax_scale(dataset.data)\n",
    "y = dataset.target\n",
    "kf = KFold(3, shuffle = True)\n",
    "# print(minmax_scale(dataset.data[1:10]))\n",
    "# print(dataset.data[1:10])\n",
    "# print(minmax_scale(normalize(dataset.data[1:10])))\n",
    "# print(normalize(minmax_scale(dataset.data[1:10])))\n",
    "\n",
    "print()\n",
    "print(normalize(dataset.data[1:10]))\n",
    "\n",
    "# TODO Q2F\n",
    "# Comparez les diverses approches demandées dans l'énoncé sur Iris\n",
    "# Pour utilisez votre discriminant linéaire, utilisez l'approche Un Contre Tous.\n",
    "# Initialisez vos discriminants linéaires avec les paramètres suivants :\n",
    "# DiscriminantLineaire(eta=1e-4, epsilon=1e-6, max_iter=10000)\n",
    "# Pour les autres approches, conservez les valeurs par défaut\n",
    "# N'oubliez pas que l'évaluation doit être faite par une validation\n",
    "# croisée à K=3 plis!\n",
    "\n",
    "liste_classifieurs = [ClassifieurUnContreTous(n_classes=3, eta=1e-4, epsilon=1e-6, max_iter=10000), LinearDiscriminantAnalysis(), Perceptron(), LogisticRegression()]\n",
    "liste_erreur = []\n",
    "for classif in liste_classifieurs:\n",
    "    a = 0 \n",
    "    score_train = 0\n",
    "    score_test = 0\n",
    "    debut = time.time()\n",
    "    for k, (train, test) in enumerate(kf.split(X, y)):\n",
    "        classif.fit(X[train], y[train])\n",
    "        score_train += classif.score(X[train], y[train])\n",
    "        score_test += classif.score(X[test], y[test])\n",
    "    fin = time.time()\n",
    "    liste_erreur.append([score_train/3, score_test/3, fin - debut])  \n",
    "print(liste_erreur)\n",
    "\n",
    "\n",
    "\n",
    "_times.append(time.time())\n",
    "checkTime(TMAX_Q2Firis, \"2Firis\")"
   ]
  },
  {
   "cell_type": "markdown",
   "metadata": {
    "colab_type": "text",
    "id": "r5TDMwet5dzw"
   },
   "source": [
    "#### Résultats et discussion Q2F (Iris de Fisher)\n",
    "\n",
    "Tableau des paramètres d'entraînement:\n",
    "\n",
    "Mon classifieur | LDA |   Perceptron  | LogReg |\n",
    "----------------|-----|---------------|------- |\n",
    "    eta=1e-4    |  -  |       -       |   -    |\n",
    "  epsilon=1e-6  |  -  |       -       |   -    |\n",
    " max_iter=10000 |  -  |       -       |   -    |\n",
    "\n",
    "\n",
    "Taux d'erreurs en entraînement et en test:\n",
    "\n",
    "Classifieur    | Taux d'err. (Entraînement) | Taux d'err. (Test) | Temps calcul|\n",
    "---------------|----------------------------|--------------------|-------------|\n",
    "Mon classifieur|          0.953             |        0.946       |     39.1    |\n",
    "LDA            |          0.98              |        0.96        |     0.004   |\n",
    "Perceptron     |          0.766             |        0.779       |     0.004   |\n",
    "LogReg         |          0.836             |        0.793       |     0.004   |\n",
    "\n",
    "Discussion des résultats obtenus (performances en entraînement, performances en généralisation et temps de calcul):\n",
    "\n",
    "\n",
    "Le perceptron et le LogReg ne sont pas adaptés à ce problème, ils possèdent des erreurs trop éelvées par rapport aux autres. Notre classifieurs est relativement bon mais possède un temps de calcul trop élevé. On choisirait ici le LDA."
   ]
  },
  {
   "cell_type": "markdown",
   "metadata": {
    "colab_type": "text",
    "id": "gBa5W0DrA1Zd"
   },
   "source": [
    "### Q2G\n",
    "Utilisez une méthode de $k$-plus proches voisins ($k$-Nearest Neighbors) sur les jeux de données Iris de Fisher et Breast Cancer Wisconsin, en normalisant les données. Pour le classifieur, vous pouvez utiliser directement l'implémentation de Scikit-learn (*KNeighborsClassifier*). Utilisez les paramètres par défaut, sauf pour:\n",
    "- *Pondération (weights)*: Testez avec les valeurs *uniform* et *distance* pour le paramètre *weights*;\n",
    "- *Nombre de voisins ($k$)*: Pour les deux différentes pondérations, testez avec les valeurs {1, 3, 5, 7, 11, 13, 15, 25, 35, 45}.\n",
    "\n",
    "Pour l'évaluation, utilisez une méthode de type *Leave-one-out*. Pour chaque jeu, rapportez la performance de chaque paramétrisation dans une figure synthèse.\n",
    "\n",
    "Discutez **<u>brièvement</u>** des résultats obtenus."
   ]
  },
  {
   "cell_type": "markdown",
   "metadata": {},
   "source": [
    "### <p style=\"color:red;\">Correction de la question Q2G\n",
    "Vous avez obtenu la note de /2\n",
    "\n",
    "Explications (si nécessaire):"
   ]
  },
  {
   "cell_type": "code",
   "execution_count": 24,
   "metadata": {
    "colab": {},
    "colab_type": "code",
    "id": "s4NNQpbiAopu"
   },
   "outputs": [
    {
     "name": "stdout",
     "output_type": "stream",
     "text": [
      "[0.9525483304042179, 0.9701230228471002, 0.9666080843585237, 0.9701230228471002, 0.968365553602812, 0.9736379613356766, 0.9753954305799648, 0.9595782073813708, 0.9560632688927944, 0.9543057996485061]\n",
      "[0.9525483304042179, 0.9701230228471002, 0.9666080843585237, 0.9701230228471002, 0.9701230228471002, 0.9736379613356766, 0.9771528998242531, 0.9666080843585237, 0.9595782073813708, 0.9543057996485061]\n"
     ]
    },
    {
     "data": {
      "image/png": "[encoded data removed]",
      "text/plain": [
       "<Figure size 432x288 with 1 Axes>"
      ]
     },
     "metadata": {
      "needs_background": "light"
     },
     "output_type": "display_data"
    }
   ],
   "source": [
    "_times.append(time.time())\n",
    "\n",
    "\n",
    "\n",
    "\n",
    "# TODO Q2G\n",
    "# Testez un classifeur K plus proches voisins sur Breast Cancer\n",
    "# L'évaluation doit être faite en utilisant une approche leave-one-out\n",
    "# Testez avec k = {1, 3, 5, 7, 11, 13, 15, 25, 35, 45} et avec les valeurs\n",
    "# \"uniform\" et \"distance\" comme valeur de l'argument \"weights\".\n",
    "# N'oubliez pas de normaliser le jeu de données en utilisant minmax_scale!\n",
    "\n",
    "dataset = load_breast_cancer()\n",
    "X = minmax_scale(dataset.data)\n",
    "y = dataset.target\n",
    "\n",
    "\n",
    "# Stockez les performances obtenues (précision moyenne pour chaque valeur de k)\n",
    "# dans deux listes, scoresUniformWeights pour weights=uniform et \n",
    "# scoresDistanceWeights pour weights=distance\n",
    "# Le premier élément de chacune de ces listes devrait contenir la précision\n",
    "# pour k=1, le second la précision pour k=3, et ainsi de suite.\n",
    "\n",
    "scoresUniformWeights = []\n",
    "scoresDistanceWeights = []\n",
    "\n",
    "liste_k =  [1, 3, 5, 7, 11, 13, 15, 25, 35, 45]\n",
    "for k in liste_k:\n",
    "        classif = KNeighborsClassifier(n_neighbors=k,weights = \"uniform\")\n",
    "        loo = LeaveOneOut()\n",
    "        score = 0\n",
    "        for train_index, test_index in loo.split(X):\n",
    "            classif.fit(X[train_index], y[train_index])\n",
    "            score += classif.score(X[test_index], y[test_index])\n",
    "        scoresUniformWeights.append(score/loo.get_n_splits(X))\n",
    "            \n",
    "for k in liste_k:\n",
    "        classif = KNeighborsClassifier(n_neighbors=k,weights = \"distance\")\n",
    "        loo = LeaveOneOut()\n",
    "        score = 0\n",
    "        for train_index, test_index in loo.split(X):\n",
    "            classif.fit(X[train_index], y[train_index])\n",
    "            score += classif.score(X[test_index], y[test_index])\n",
    "        scoresDistanceWeights.append(score/loo.get_n_splits(X))\n",
    "\n",
    "            \n",
    "print(scoresUniformWeights)            \n",
    "print(scoresDistanceWeights)\n",
    "\n",
    "_times.append(time.time())\n",
    "checkTime(TMAX_Q2Gbc, \"2Gbc\")\n",
    "\n",
    "\n",
    "# TODO Q2G\n",
    "# Produisez un graphique contenant deux courbes, l'une pour weights=uniform\n",
    "# et l'autre pour weights=distance. L'axe x de la figure doit être le nombre\n",
    "# de voisins et l'axe y la performance en leave-one-out\n",
    "pyplot.plot(liste_k, scoresDistanceWeights)\n",
    "pyplot.plot(liste_k, scoresUniformWeights)\n",
    "pyplot.title('Breast Cancer Dataset')\n",
    "pyplot.legend(('Score distance','Score Uniform'))\n",
    "\n",
    "pyplot.show()"
   ]
  },
  {
   "cell_type": "code",
   "execution_count": 25,
   "metadata": {
    "colab": {},
    "colab_type": "code",
    "id": "NQuL3TZXKilq"
   },
   "outputs": [
    {
     "name": "stdout",
     "output_type": "stream",
     "text": [
      "[0.9533333333333334, 0.9533333333333334, 0.9533333333333334, 0.9666666666666667, 0.9466666666666667, 0.9666666666666667, 0.96, 0.9533333333333334, 0.96, 0.94]\n",
      "[0.9533333333333334, 0.9533333333333334, 0.9533333333333334, 0.96, 0.9466666666666667, 0.96, 0.9533333333333334, 0.9533333333333334, 0.9533333333333334, 0.96]\n"
     ]
    },
    {
     "data": {
      "image/png": "[encoded data removed]",
      "text/plain": [
       "<Figure size 432x288 with 1 Axes>"
      ]
     },
     "metadata": {
      "needs_background": "light"
     },
     "output_type": "display_data"
    }
   ],
   "source": [
    "_times.append(time.time())\n",
    "\n",
    "\n",
    "# TODO Q2G\n",
    "# Testez un classifeur K plus proches voisins sur Iris\n",
    "# L'évaluation doit être faite en utilisant une approche leave-one-out\n",
    "# Testez avec k = {1, 3, 5, 7, 11, 13, 15, 25, 35, 45} et avec les valeurs\n",
    "# \"uniform\" et \"distance\" comme valeur de l'argument \"weights\".\n",
    "# N'oubliez pas de normaliser le jeu de données en utilisant minmax_scale!\n",
    "\n",
    "dataset = load_iris()\n",
    "X = minmax_scale(dataset.data)\n",
    "y = dataset.target\n",
    "\n",
    "classif = KNeighborsClassifier()\n",
    "\n",
    "# Stockez les performances obtenues (précision moyenne pour chaque valeur de k)\n",
    "# dans deux listes, scoresUniformWeights pour weights=uniform et \n",
    "# scoresDistanceWeights pour weights=distance\n",
    "# Le premier élément de chacune de ces listes devrait contenir la précision\n",
    "# pour k=1, le second la précision pour k=3, et ainsi de suite.\n",
    "\n",
    "\n",
    "scoresUniformWeights = []\n",
    "scoresDistanceWeights = []\n",
    "\n",
    "liste_k =  [1, 3, 5, 7, 11, 13, 15, 25, 35, 45]\n",
    "for k in liste_k:\n",
    "        classif = KNeighborsClassifier(n_neighbors=k,weights = \"uniform\")\n",
    "        loo = LeaveOneOut()\n",
    "        score = 0\n",
    "        for train_index, test_index in loo.split(X):\n",
    "            classif.fit(X[train_index], y[train_index])\n",
    "            score += classif.score(X[test_index], y[test_index])\n",
    "        scoresUniformWeights.append(score/loo.get_n_splits(X))\n",
    "            \n",
    "for k in liste_k:\n",
    "        classif = KNeighborsClassifier(n_neighbors=k,weights = \"distance\")\n",
    "        loo = LeaveOneOut()\n",
    "        score = 0\n",
    "        for train_index, test_index in loo.split(X):\n",
    "            classif.fit(X[train_index], y[train_index])\n",
    "            score += classif.score(X[test_index], y[test_index])\n",
    "        scoresDistanceWeights.append(score/loo.get_n_splits(X))\n",
    "\n",
    "            \n",
    "print(scoresUniformWeights)            \n",
    "print(scoresDistanceWeights)\n",
    "\n",
    "\n",
    "\n",
    "_times.append(time.time())\n",
    "checkTime(TMAX_Q2Giris, \"2Giris\")\n",
    "\n",
    "\n",
    "# TODO Q2G\n",
    "# Produisez un graphique contenant deux courbes, l'une pour weights=uniform\n",
    "# et l'autre pour weights=distance. L'axe x de la figure doit être le nombre\n",
    "# de voisins et l'axe y la performance en leave-one-out\n",
    "pyplot.plot(liste_k, scoresDistanceWeights)\n",
    "pyplot.plot(liste_k, scoresUniformWeights)\n",
    "pyplot.legend(('Score distance','Score Uniform'))\n",
    "pyplot.title('Iris Dataset')\n",
    "pyplot.show()\n"
   ]
  },
  {
   "cell_type": "markdown",
   "metadata": {
    "colab_type": "text",
    "id": "hLYCfVUGSVwU"
   },
   "source": [
    "#### Discussion des résultats obtenus Q2G\n",
    "- Breast Cancer Wisconsin: Pour un k=15 et un choix des poids en \"distance\" l'algorithme est le meilleur\n",
    "- Iris de Fisher: Pour un k=13 et un choix des poids en \"Uniform\" l'algorithme est le meilleur"
   ]
  },
  {
   "cell_type": "code",
   "execution_count": null,
   "metadata": {},
   "outputs": [],
   "source": []
  }
 ],
 "metadata": {
  "colab": {
   "collapsed_sections": [],
   "name": "Devoir_2_iam_2019.ipynb",
   "provenance": []
  },
  "kernelspec": {
   "display_name": "Python 3",
   "language": "python",
   "name": "python3"
  },
  "language_info": {
   "codemirror_mode": {
    "name": "ipython",
    "version": 3
   },
   "file_extension": ".py",
   "mimetype": "text/x-python",
   "name": "python",
   "nbconvert_exporter": "python",
   "pygments_lexer": "ipython3",
   "version": "3.7.4"
  }
 },
 "nbformat": 4,
 "nbformat_minor": 1
}
